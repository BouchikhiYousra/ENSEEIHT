{
  "cells": [
    {
      "cell_type": "code",
      "execution_count": null,
      "metadata": {
        "collapsed": false
      },
      "outputs": [],
      "source": [
        "%matplotlib inline"
      ]
    },
    {
      "cell_type": "markdown",
      "metadata": {},
      "source": [
        "\n# H2TurboFan: definition\n"
      ]
    },
    {
      "cell_type": "code",
      "execution_count": null,
      "metadata": {
        "collapsed": false
      },
      "outputs": [],
      "source": [
        "import sys\nsys.path.append(\"/home/n7student/S9/metamodel/lh2pac\")\nfrom pathlib import Path\nfrom typing import Dict, Iterable, Mapping, Union\n\nfrom gemseo.algos.opt_problem import OptimizationProblem\nfrom gemseo.core.discipline import MDODiscipline\nfrom marilib.utils import unit\nfrom numpy import array, ndarray\n\nfrom h2_turbofan.turbofan_h2_function import fct_turbofan_h2, str_h2turbofan\n\n\nclass H2TurboFan(MDODiscipline):\n    \"\"\"Wrapper of the MARILib-based function :meth:`fct_turbofan_h2`.\n\n    This discipline evaluates the function :meth:`fct_turbofan_h2`\n    from values of :attr:`TECHNOLOGICAL_VARIABLES` and :attr:`DESIGN_VARIABLES`\n    passed to the method :meth:`execute` as a dictionary of NumPy arrays.\n\n    The discipline uses :attr:`DEFAULT_DESIGN_VALUES` for unspecified :attr:`DESIGN_VARIABLES`\n    and :attr:`DEFAULT_TECHNOLOGICAL_VALUES` for unspecified :attr:`TECHNOLOGICAL_VARIABLES`.\n    \"\"\"\n\n    TECHNOLOGICAL_VARIABLES = [\"tgi\", \"tvi\", \"sfc\", \"mass\", \"drag\"]\n    DESIGN_VARIABLES = [\"thrust\", \"bpr\", \"area\", \"aspect_ratio\"]\n    OBJECTIVE = \"mtow\"\n    CONSTRAINTS = [\"tofl\", \"vapp\", \"vz_mcl\", \"vz_mcr\", \"oei_path\", \"ttc\", \"far\"]\n    OBSERVABLES = [\"fuel\", \"coc\"]\n    OUTPUT_VARIABLES = [OBJECTIVE] + CONSTRAINTS + OBSERVABLES\n    DEFAULT_DESIGN_VALUES = {\n        \"thrust\": array([125000.0]),\n        \"bpr\": array([8.5]),\n        \"area\": array([160.0]),\n        \"aspect_ratio\": array([9.5]),\n    }\n    DEFAULT_TECHNOLOGICAL_VALUES = {\n        \"tgi\": array([0.3]),\n        \"tvi\": array([0.845]),\n        \"drag\": array([1.0]),\n        \"sfc\": array([1.0]),\n        \"mass\": array([1.0]),\n    }\n\n    def __init__(self) -> None:\n        super(H2TurboFan, self).__init__()\n\n        # Define the input and output variables.\n        self.input_grammar.update(\n            self.DESIGN_VARIABLES + self.TECHNOLOGICAL_VARIABLES\n        )\n        self.output_grammar.update(self.OUTPUT_VARIABLES)\n\n        # Define the default inputs.\n        self.default_inputs.update(self.DEFAULT_DESIGN_VALUES)\n        self.default_inputs.update(self.DEFAULT_TECHNOLOGICAL_VALUES)\n\n    def _run(self):\n        \"\"\"Run the wrapped MARILib function :meth:`fct_turbofan_h2`.\n\n        1. Retrieve the inputs passed to :meth:`execute` and store in :attr:`local_data`.\n        2. Execute the MARILib-based function :meth:`fct_turbofan_h2`.\n        3. Store the results in :attr:`local_data`.\n        \"\"\"\n        design_data = self.get_variables(self.local_data, self.DESIGN_VARIABLES)\n        techno_data = self.get_variables(self.local_data, self.TECHNOLOGICAL_VARIABLES)\n        output_data = fct_turbofan_h2(techno_data, design_data, \"eval\")\n        output_data = {name: array([value]) for name, value in output_data.items()}\n        self.local_data.update(output_data)\n\n    @classmethod\n    def plot_results(cls, data: Mapping[str, ndarray]) -> None:\n        \"\"\"Plot the results in the MARILib way.\n\n        Args:\n            data: The data to be plotted.\n        \"\"\"\n        design_data = cls.get_variables(data, cls.DESIGN_VARIABLES)\n        techno_data = cls.get_variables(data, cls.TECHNOLOGICAL_VARIABLES)\n        fct_turbofan_h2(techno_data, design_data, \"draw\")\n\n    @classmethod\n    def print_results(cls, data: Mapping[str, ndarray]) -> None:\n        \"\"\"Print the results in the MARILib way.\n\n        Args:\n            data: The data to be printed.\n        \"\"\"\n        design_data = cls.get_variables(data, cls.DESIGN_VARIABLES)\n        techno_data = cls.get_variables(data, cls.TECHNOLOGICAL_VARIABLES)\n        output_data = cls.get_variables(data, cls.OUTPUT_VARIABLES)\n        print(str_h2turbofan(techno_data, design_data, output_data))\n\n    @staticmethod\n    def get_variables(\n        data: Mapping[str, ndarray], names: Iterable[str]\n    ) -> Dict[str, float]:\n        \"\"\"Return the values of the variable readable by :meth:`fct_turbofan_h2`.\n\n        Args:\n            data: The data to be converted.\n            names: The names of the variables.\n\n        Returns:\n            The data readable by :meth:`fct_turbofan_h2`.\n        \"\"\"\n        return {name: data[name][0] for name in names}\n\n    @classmethod\n    def print_results_from_opt_problem(\n        cls, problem: Union[OptimizationProblem, str, Path]\n    ) -> None:\n        \"\"\"Print the results in the MARILib way.\n\n        Args:\n            problem: The :class:`OptimizationProblem` after resolution,\n                either as a :class:`OptimizationProblem`\n                or a file path to a saved optimization history.\n        \"\"\"\n        if not isinstance(problem, OptimizationProblem):\n            problem = OptimizationProblem.import_hdf(problem)\n\n        f_opt, x_opt, is_feas, c_opt, _ = problem.get_optimum()\n        x_opt = {\n            name: x_opt[i]\n            for i, name in enumerate(problem.design_space.variables_names)\n        }\n        y_opt = {}\n        y_opt[\"mtow\"] = f_opt\n        for name, value in c_opt.items():\n            if name.startswith(\"-\"):\n                y_opt[name[1:]] = -value\n            else:\n                y_opt[name] = value\n        data = {name: array([value]) for name, value in x_opt.items()}\n        data.update({name: array([value]) for name, value in y_opt.items()})\n        data.update(H2TurboFan.DEFAULT_TECHNOLOGICAL_VALUES)\n        data[\"ttc\"] += unit.s_min(25)\n        data[\"tofl\"] += 2200\n        data[\"vapp\"] += unit.mps_kt(137)\n        data[\"vz_mcl\"] += unit.mps_ftpmin(300)\n        data[\"oei_path\"] += 0.011\n        data[\"far\"] += 13.4\n        cls.print_results(data)\n        return data"
      ]
    }
  ],
  "metadata": {
    "kernelspec": {
      "display_name": "Python 3",
      "language": "python",
      "name": "python3"
    },
    "language_info": {
      "codemirror_mode": {
        "name": "ipython",
        "version": 3
      },
      "file_extension": ".py",
      "mimetype": "text/x-python",
      "name": "python",
      "nbconvert_exporter": "python",
      "pygments_lexer": "ipython3",
      "version": "3.9.13"
    }
  },
  "nbformat": 4,
  "nbformat_minor": 0
}