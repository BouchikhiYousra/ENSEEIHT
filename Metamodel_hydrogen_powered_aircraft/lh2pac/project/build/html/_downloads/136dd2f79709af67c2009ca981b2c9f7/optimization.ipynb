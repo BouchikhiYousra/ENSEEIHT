{
  "cells": [
    {
      "cell_type": "code",
      "execution_count": null,
      "metadata": {
        "collapsed": false
      },
      "outputs": [],
      "source": [
        "%matplotlib inline"
      ]
    },
    {
      "cell_type": "markdown",
      "metadata": {},
      "source": [
        "\n# Optimization\n\nsome comment\n"
      ]
    },
    {
      "cell_type": "code",
      "execution_count": null,
      "metadata": {
        "collapsed": false
      },
      "outputs": [],
      "source": [
        "from gemseo.api import configure_logger\nfrom gemseo.api import create_scenario\n\nfrom discipline import H2TurboFan\nfrom design_space import L2PACDesignSpace\nfrom marilib.utils import unit\n\nconfigure_logger()\n\ndiscipline = H2TurboFan()\n\ndesign_space = L2PACDesignSpace()\n\nscenario = create_scenario([discipline],\"DisciplinaryOpt\", \"mtow\", design_space)\nscenario.add_constraint(\"tofl\", constraint_type=\"ineq\", value=2200)\nscenario.add_constraint(\"vapp\", constraint_type=\"ineq\", value=unit.mps_kt(137))\nscenario.add_constraint(\n    \"vz_mcl\", constraint_type=\"ineq\", positive=True, value=unit.mps_ftpmin(300.0)\n)\nscenario.add_constraint(\n    \"vz_mcr\", constraint_type=\"ineq\", positive=True, value=unit.mps_ftpmin(0.0)\n)\nscenario.add_constraint(\n    \"oei_path\", constraint_type=\"ineq\", positive=True, value=1.1 / 100\n)\nscenario.add_constraint(\"ttc\", constraint_type=\"ineq\", value=unit.s_min(25))\nscenario.add_constraint(\"far\", constraint_type=\"ineq\", value=13.4)\n\nprint(scenario)\n\nscenario.execute({\"algo\": \"NLOPT_COBYLA\", \"max_iter\": 30})#, \"algo_options\": {\"ftol_abs\": 1e-4}\n\nscenario.post_process(\"OptHistoryView\", save=True, show=True)"
      ]
    }
  ],
  "metadata": {
    "kernelspec": {
      "display_name": "Python 3",
      "language": "python",
      "name": "python3"
    },
    "language_info": {
      "codemirror_mode": {
        "name": "ipython",
        "version": 3
      },
      "file_extension": ".py",
      "mimetype": "text/x-python",
      "name": "python",
      "nbconvert_exporter": "python",
      "pygments_lexer": "ipython3",
      "version": "3.9.13"
    }
  },
  "nbformat": 4,
  "nbformat_minor": 0
}