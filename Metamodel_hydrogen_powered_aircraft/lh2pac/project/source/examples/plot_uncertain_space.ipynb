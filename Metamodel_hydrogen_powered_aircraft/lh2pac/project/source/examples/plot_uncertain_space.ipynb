{
  "cells": [
    {
      "cell_type": "code",
      "execution_count": null,
      "metadata": {
        "collapsed": false
      },
      "outputs": [],
      "source": [
        "%matplotlib inline"
      ]
    },
    {
      "cell_type": "markdown",
      "metadata": {},
      "source": [
        "\n# Uncertain space\n\nGEMSEO does not offer an uncertain space but a :class:`.ParameterSpace`,\ngrouping both deterministic and uncertain variables.\nThis is a subclass of :class:`.DesignSpace`\nwith a method :meth:`~.ParameterSpace.add_random_variable`.\n\n## Create an uncertain space\n\nFirstly, we import the API function :func:`create_parameter_space` and NumPy materials:\n"
      ]
    },
    {
      "cell_type": "code",
      "execution_count": null,
      "metadata": {
        "collapsed": false
      },
      "outputs": [],
      "source": [
        "from gemseo.algos.parameter_space import ParameterSpace\nfrom gemseo.api import create_parameter_space\nfrom numpy import array"
      ]
    },
    {
      "cell_type": "markdown",
      "metadata": {},
      "source": [
        "Then, we create an empty :class:`.ParameterSpace`:\n\n"
      ]
    },
    {
      "cell_type": "code",
      "execution_count": null,
      "metadata": {
        "collapsed": false
      },
      "outputs": [],
      "source": [
        "uncertain_space = create_parameter_space()"
      ]
    },
    {
      "cell_type": "markdown",
      "metadata": {},
      "source": [
        "and add a first uncertain variable $u$,\nfollowing the standard Gaussian distribution\n\n"
      ]
    },
    {
      "cell_type": "code",
      "execution_count": null,
      "metadata": {
        "collapsed": false
      },
      "outputs": [],
      "source": [
        "uncertain_space.add_random_variable(\"u\", \"OTNormalDistribution\")"
      ]
    },
    {
      "cell_type": "markdown",
      "metadata": {},
      "source": [
        "<div class=\"alert alert-info\"><h4>Note</h4><p>OT stands for OpenTURNS, the UQ library used for sampling.</p></div>\n\n"
      ]
    },
    {
      "cell_type": "markdown",
      "metadata": {},
      "source": [
        "We can also add a second uncertain variable $v$\nfollowing the Gaussian distribution with mean 2 and standard deviation 0.5:\n\n"
      ]
    },
    {
      "cell_type": "code",
      "execution_count": null,
      "metadata": {
        "collapsed": false
      },
      "outputs": [],
      "source": [
        "uncertain_space.add_random_variable(\"v\", \"OTNormalDistribution\", mu=2, sigma=0.5)"
      ]
    },
    {
      "cell_type": "markdown",
      "metadata": {},
      "source": [
        "as well as a third uncertain variable $w$\nfollowing a triangular distribution:\n\n"
      ]
    },
    {
      "cell_type": "code",
      "execution_count": null,
      "metadata": {
        "collapsed": false
      },
      "outputs": [],
      "source": [
        "uncertain_space.add_random_variable(\"z\", \"OTTriangularDistribution\", minimum=-1., mode=0.5, maximum=1.)"
      ]
    },
    {
      "cell_type": "markdown",
      "metadata": {},
      "source": [
        "We can print this :class:`.ParameterSpace`:\n\n"
      ]
    },
    {
      "cell_type": "code",
      "execution_count": null,
      "metadata": {
        "collapsed": false
      },
      "outputs": [],
      "source": [
        "print(uncertain_space)"
      ]
    },
    {
      "cell_type": "markdown",
      "metadata": {},
      "source": [
        "<div class=\"alert alert-info\"><h4>Note</h4><p>The initial current value corresponds to the mean of the random variables.</p></div>\n\n"
      ]
    },
    {
      "cell_type": "markdown",
      "metadata": {},
      "source": [
        "## Create a class of uncertain space\nIf we want to use this uncertain space more than once,\nit can be more convenient and Pythonic to use the object-oriented paradigm\nand subclass :class:`.ParameterSpace`:\n\n"
      ]
    },
    {
      "cell_type": "code",
      "execution_count": null,
      "metadata": {
        "collapsed": false
      },
      "outputs": [],
      "source": [
        "class MyUncertainSpace(ParameterSpace):\n\n    def __init__(self):\n        super().__init__()\n        self.add_random_variable(\"u\", \"OTNormalDistribution\")\n        self.add_random_variable(\n            \"v\", \"OTNormalDistribution\", mu=2, sigma=0.5\n        )\n        self.add_random_variable(\n            \"z\", \"OTTriangularDistribution\", minimum=-1., mode=0.5, maximum=1.\n        )"
      ]
    },
    {
      "cell_type": "markdown",
      "metadata": {},
      "source": [
        "Then,\nwe only have to instantiate :class:`MyUncertainSpace`:\n\n"
      ]
    },
    {
      "cell_type": "code",
      "execution_count": null,
      "metadata": {
        "collapsed": false
      },
      "outputs": [],
      "source": [
        "uncertain_space = MyUncertainSpace()\nprint(uncertain_space)"
      ]
    }
  ],
  "metadata": {
    "kernelspec": {
      "display_name": "Python 3",
      "language": "python",
      "name": "python3"
    },
    "language_info": {
      "codemirror_mode": {
        "name": "ipython",
        "version": 3
      },
      "file_extension": ".py",
      "mimetype": "text/x-python",
      "name": "python",
      "nbconvert_exporter": "python",
      "pygments_lexer": "ipython3",
      "version": "3.9.13"
    }
  },
  "nbformat": 4,
  "nbformat_minor": 0
}