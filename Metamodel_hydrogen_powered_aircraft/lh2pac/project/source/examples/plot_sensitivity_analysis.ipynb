{
  "cells": [
    {
      "cell_type": "code",
      "execution_count": null,
      "metadata": {
        "collapsed": false
      },
      "outputs": [],
      "source": [
        "%matplotlib inline"
      ]
    },
    {
      "cell_type": "markdown",
      "metadata": {},
      "source": [
        "\n# Sensitivity analysis\n\nIn this example,\nwe will use the Sobol' analysis to quantify\nthe sensitivity of the output of the Ishigami function to its inputs:\n\n\\begin{align}f(x_1,x_2,x_3)=\\sin(x_1)+7\\sin(x_2)^2+0.1*x_3^4\\sin(x_1)\\end{align}\n\nwhere :math:`x_1,x_2,x_3\\in[-\\pi,\\pi].\n"
      ]
    },
    {
      "cell_type": "code",
      "execution_count": null,
      "metadata": {
        "collapsed": false
      },
      "outputs": [],
      "source": [
        "import pprint\n\nfrom gemseo.algos.parameter_space import ParameterSpace\nfrom gemseo.api import create_discipline\nfrom gemseo.uncertainty.sensitivity.sobol.analysis import SobolAnalysis\nfrom matplotlib import pyplot as plt\nfrom numpy import pi"
      ]
    },
    {
      "cell_type": "markdown",
      "metadata": {},
      "source": [
        "Firstly,\nwe create the Ishigami function:\n\n"
      ]
    },
    {
      "cell_type": "code",
      "execution_count": null,
      "metadata": {
        "collapsed": false
      },
      "outputs": [],
      "source": [
        "discipline = create_discipline(\n    \"AnalyticDiscipline\",\n    expressions={\"y\": \"sin(x2)+7*sin(x1)**2+0.1*x3**4*sin(x2)\"},\n    name=\"Ishigami\"\n)"
      ]
    },
    {
      "cell_type": "markdown",
      "metadata": {},
      "source": [
        "Then,\nwe define the uncertain space with uniform distributions:\n\n"
      ]
    },
    {
      "cell_type": "code",
      "execution_count": null,
      "metadata": {
        "collapsed": false
      },
      "outputs": [],
      "source": [
        "uncertain_space = ParameterSpace()\nfor name in [\"x1\", \"x2\", \"x3\"]:\n    uncertain_space.add_random_variable(\n        name, \"OTUniformDistribution\", minimum=-pi, maximum=pi\n    )"
      ]
    },
    {
      "cell_type": "markdown",
      "metadata": {},
      "source": [
        "From that,\nwe launch a Sobol' analysis with 1000 samples:\n\n"
      ]
    },
    {
      "cell_type": "code",
      "execution_count": null,
      "metadata": {
        "collapsed": false
      },
      "outputs": [],
      "source": [
        "sobol = SobolAnalysis([discipline], uncertain_space, 1000)\nsobol.compute_indices()"
      ]
    },
    {
      "cell_type": "markdown",
      "metadata": {},
      "source": [
        "and print the results:\n\n"
      ]
    },
    {
      "cell_type": "code",
      "execution_count": null,
      "metadata": {
        "collapsed": false
      },
      "outputs": [],
      "source": [
        "pprint.pprint(sobol.first_order_indices)\npprint.pprint(sobol.total_order_indices)"
      ]
    },
    {
      "cell_type": "markdown",
      "metadata": {},
      "source": [
        "We can also plot visualize both first-order and total Sobol' indices:\n\n"
      ]
    },
    {
      "cell_type": "code",
      "execution_count": null,
      "metadata": {
        "collapsed": false
      },
      "outputs": [],
      "source": [
        "sobol.plot(\"y\", save=False, show=False)\n# Workaround for HTML rendering, instead of ``show=True``\nplt.show()"
      ]
    }
  ],
  "metadata": {
    "kernelspec": {
      "display_name": "Python 3",
      "language": "python",
      "name": "python3"
    },
    "language_info": {
      "codemirror_mode": {
        "name": "ipython",
        "version": 3
      },
      "file_extension": ".py",
      "mimetype": "text/x-python",
      "name": "python",
      "nbconvert_exporter": "python",
      "pygments_lexer": "ipython3",
      "version": "3.9.13"
    }
  },
  "nbformat": 4,
  "nbformat_minor": 0
}