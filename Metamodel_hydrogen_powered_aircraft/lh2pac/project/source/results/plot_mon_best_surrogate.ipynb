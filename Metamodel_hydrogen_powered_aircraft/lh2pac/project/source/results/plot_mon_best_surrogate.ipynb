{
  "cells": [
    {
      "cell_type": "code",
      "execution_count": null,
      "metadata": {
        "collapsed": false
      },
      "outputs": [],
      "source": [
        "%matplotlib inline"
      ]
    },
    {
      "cell_type": "markdown",
      "metadata": {},
      "source": [
        "\n# LH2pac Surrogate models\n\nIn this example,\nwe will build a surrogate model for the H2TurboFan problem using\nseveral Regressors. After comparing their R2 measures, \nwe will optimize the best surrogate model.\n"
      ]
    },
    {
      "cell_type": "code",
      "execution_count": null,
      "metadata": {
        "collapsed": false
      },
      "outputs": [],
      "source": [
        "from gemseo.api import configure_logger\nfrom gemseo.api import create_scenario\nfrom gemseo.api import create_surrogate\nfrom gemseo.mlearning.qual_measure.r2_measure import R2Measure\nfrom gemseo_mlearning.api import sample_discipline\nfrom discipline import H2TurboFan\nfrom plot_mon_design_space import lh2pacDesignSpace\nfrom marilib.utils import unit\nimport matplotlib.pyplot as plt\nimport pandas as pd"
      ]
    },
    {
      "cell_type": "code",
      "execution_count": null,
      "metadata": {
        "collapsed": false
      },
      "outputs": [],
      "source": [
        "configure_logger()"
      ]
    },
    {
      "cell_type": "markdown",
      "metadata": {},
      "source": [
        "Firstly,\nwe instantiate the H2TurboFan discipline\n\n"
      ]
    },
    {
      "cell_type": "code",
      "execution_count": null,
      "metadata": {
        "collapsed": false
      },
      "outputs": [],
      "source": [
        "discipline = H2TurboFan()"
      ]
    },
    {
      "cell_type": "markdown",
      "metadata": {},
      "source": [
        "Then, we import the design space:\n\n"
      ]
    },
    {
      "cell_type": "code",
      "execution_count": null,
      "metadata": {
        "collapsed": false
      },
      "outputs": [],
      "source": [
        "design_space = lh2pacDesignSpace()\nprint(design_space)"
      ]
    },
    {
      "cell_type": "markdown",
      "metadata": {},
      "source": [
        "Then,\nwe sample the discipline with an optimal LHS:\n\n"
      ]
    },
    {
      "cell_type": "code",
      "execution_count": null,
      "metadata": {
        "collapsed": false
      },
      "outputs": [],
      "source": [
        "dataset = sample_discipline(discipline, design_space, \\\n    output_names=[\"mtow\",\"tofl\",\"vapp\", \"vz_mcl\",\"vz_mcr\",\"oei_path\",\"ttc\",\"far\"],\\\n        algo_name= \"OT_OPT_LHS\", n_samples= 30)"
      ]
    },
    {
      "cell_type": "markdown",
      "metadata": {},
      "source": [
        "We instantiate the dataframes that will be used to compare the different surrogate models :  \n\n"
      ]
    },
    {
      "cell_type": "code",
      "execution_count": null,
      "metadata": {
        "collapsed": false
      },
      "outputs": [],
      "source": [
        "data_r2 = pd.DataFrame()\ndata_r2_kfold = pd.DataFrame()"
      ]
    },
    {
      "cell_type": "markdown",
      "metadata": {},
      "source": [
        "Creating a Linear Regressor surrogate model and computing the R2 measure : \n\n"
      ]
    },
    {
      "cell_type": "code",
      "execution_count": null,
      "metadata": {
        "collapsed": false
      },
      "outputs": [],
      "source": [
        "surrogate_discipline1 = create_surrogate(\"LinearRegressor\", dataset)\nr2 = R2Measure(surrogate_discipline1.regression_model, True)\ndata_r2['LinearReg'] =  r2.evaluate_learn()\ndata_r2_kfold['LinearReg'] =  r2.evaluate_kfolds()\nprint(\"r2 de l'evaluate_learn\",data_r2['LinearReg'])  # learning measure\nprint(\"\\n\\n\")\nprint(\"r2 de l'evaluate_kfolds\",data_r2_kfold['LinearReg'])  # k-folds cross-validation measure\nprint(\"\\n\\n\")"
      ]
    },
    {
      "cell_type": "markdown",
      "metadata": {},
      "source": [
        "Creating a Polynomial Regressor surrogate model and computing the R2 measure : \n\n"
      ]
    },
    {
      "cell_type": "code",
      "execution_count": null,
      "metadata": {
        "collapsed": false
      },
      "outputs": [],
      "source": [
        "surrogate_discipline1 = create_surrogate(\"PolynomialRegressor\", dataset, degree = 3)\nr2 = R2Measure(surrogate_discipline1.regression_model, True)\ndata_r2['PolyReg'] =  r2.evaluate_learn()\ndata_r2_kfold['PolyReg'] =  r2.evaluate_kfolds()\nprint(\"r2 de l'evaluate_learn\",data_r2['PolyReg'])  # learning measure\nprint(\"\\n\\n\")\nprint(\"r2 de l'evaluate_kfolds\",data_r2_kfold['PolyReg'])  # k-folds cross-validation measure\nprint(\"\\n\\n\")"
      ]
    },
    {
      "cell_type": "markdown",
      "metadata": {},
      "source": [
        "Creating a RBF Regressor surrogate model and computing the R2 measure : \n\n"
      ]
    },
    {
      "cell_type": "code",
      "execution_count": null,
      "metadata": {
        "collapsed": false
      },
      "outputs": [],
      "source": [
        "surrogate_discipline2 = create_surrogate(\"RBFRegressor\", dataset)\nr2 = R2Measure(surrogate_discipline2.regression_model, True)\ndata_r2['RBF'] =  r2.evaluate_learn()\ndata_r2_kfold['RBF'] =  r2.evaluate_kfolds()\nprint(\"r2 de l'evaluate_learn\",data_r2['RBF'])  # learning measure\nprint(\"\\n\\n\")\nprint(\"r2 de l'evaluate_kfolds\",data_r2_kfold['RBF'])  # k-folds cross-validation measure\nprint(\"\\n\\n\")"
      ]
    },
    {
      "cell_type": "markdown",
      "metadata": {},
      "source": [
        "Creating a Gaussian Process Regressor surrogate model and computing the R2 measure : \n\n"
      ]
    },
    {
      "cell_type": "code",
      "execution_count": null,
      "metadata": {
        "collapsed": false
      },
      "outputs": [],
      "source": [
        "surrogate_discipline3 = create_surrogate(\"GaussianProcessRegressor\", dataset)\nr2 = R2Measure(surrogate_discipline3.regression_model, True)\ndata_r2['GP'] =  r2.evaluate_learn()\ndata_r2_kfold['GP'] =  r2.evaluate_kfolds()\nprint(\"r2 de l'evaluate_learn\",data_r2['GP'])  # learning measure\nprint(\"\\n\\n\")\nprint(\"r2 de l'evaluate_kfolds\",data_r2_kfold['GP'])  # k-folds cross-validation measure\nprint(\"\\n\\n\")"
      ]
    },
    {
      "cell_type": "markdown",
      "metadata": {},
      "source": [
        "Let's compare the results of the differents models\n\n"
      ]
    },
    {
      "cell_type": "code",
      "execution_count": null,
      "metadata": {
        "collapsed": false
      },
      "outputs": [],
      "source": [
        "labels=[\"mtow\",\"tofl\",\"vapp\", \"vz_mcl\",\"vz_mcr\",\"oei_path\",\"ttc\",\"far\"]\n\nfig = plt.figure(figsize=(6,3))\nplt.plot(range(len(labels)),data_r2, '.', )\nplt.xticks(range(len(labels)), labels, rotation = 'vertical')\nplt.legend(['LinearRegressor', 'PolynomialRegressor', 'RBFRegressor', 'GaussianProcessRegressor'], \\\n    bbox_to_anchor=(1,1), loc=\"upper left\")\nfig.savefig('surrogate_r2.png', bbox_inches='tight', dpi=150)\nplt.show()\n\nfig = plt.figure(figsize=(5,4))\nplt.plot(range(len(labels)),data_r2_kfold, '.', )\nplt.xticks(range(len(labels)), labels, rotation = 'vertical')\nplt.legend(['LinearRegressor', 'PolynomialRegressor', 'RBFRegressor', 'GaussianProcessRegressor'], \\\n    bbox_to_anchor=(1,1), loc=\"upper left\")\nplt.title(\"R2 Error on Kfolds\")\nfig.savefig('surrogate_r2_kfold.png', bbox_inches='tight', dpi=150)\nplt.show()"
      ]
    },
    {
      "cell_type": "markdown",
      "metadata": {},
      "source": [
        "optimization of the best (based on the R2 results) surrogate model,\nHere it's the surrogate model created with a Gaussian Process Regressor \n\n"
      ]
    },
    {
      "cell_type": "code",
      "execution_count": null,
      "metadata": {
        "collapsed": false
      },
      "outputs": [],
      "source": [
        "#first we create a scenario\nscenario = create_scenario([surrogate_discipline3], \"DisciplinaryOpt\", \"mtow\", design_space)\nscenario.add_constraint(\"tofl\", \"ineq\", positive=False, value = 2200.)\nscenario.add_constraint(\"vapp\", \"ineq\", positive=False, value = unit.mps_kt(137.))\nscenario.add_constraint(\"vz_mcl\", \"ineq\", positive=True, value = unit.mps_ftpmin(300.))\nscenario.add_constraint(\"vz_mcr\", \"ineq\", positive=True, value = unit.mps_ftpmin(0.))\nscenario.add_constraint(\"oei_path\", \"ineq\", positive=True, value=0.0011)\nscenario.add_constraint(\"ttc\", \"ineq\", positive=False, value=unit.s_min(25.)) \nscenario.add_constraint(\"far\", \"ineq\", positive=False, value=13.4)"
      ]
    },
    {
      "cell_type": "markdown",
      "metadata": {},
      "source": [
        "before executing it with a gradient-free optimizer:\n\n"
      ]
    },
    {
      "cell_type": "code",
      "execution_count": null,
      "metadata": {
        "collapsed": false
      },
      "outputs": [],
      "source": [
        "scenario.execute({\"algo\": \"NLOPT_COBYLA\", \"max_iter\": 1000})"
      ]
    },
    {
      "cell_type": "markdown",
      "metadata": {},
      "source": [
        "Lastly,\nwe can plot the optimization history:\n\n"
      ]
    },
    {
      "cell_type": "code",
      "execution_count": null,
      "metadata": {
        "collapsed": false
      },
      "outputs": [],
      "source": [
        "scenario.post_process(\"OptHistoryView\", save=False, show=False, \\\n    file_path = \"BestSurrogate\")\nplt.show()"
      ]
    }
  ],
  "metadata": {
    "kernelspec": {
      "display_name": "Python 3",
      "language": "python",
      "name": "python3"
    },
    "language_info": {
      "codemirror_mode": {
        "name": "ipython",
        "version": 3
      },
      "file_extension": ".py",
      "mimetype": "text/x-python",
      "name": "python",
      "nbconvert_exporter": "python",
      "pygments_lexer": "ipython3",
      "version": "3.9.13"
    }
  },
  "nbformat": 4,
  "nbformat_minor": 0
}