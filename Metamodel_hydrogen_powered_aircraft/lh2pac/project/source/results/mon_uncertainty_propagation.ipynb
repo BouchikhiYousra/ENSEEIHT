{
  "cells": [
    {
      "cell_type": "code",
      "execution_count": null,
      "metadata": {
        "collapsed": false
      },
      "outputs": [],
      "source": [
        "%matplotlib inline"
      ]
    },
    {
      "cell_type": "markdown",
      "metadata": {},
      "source": [
        "\n# LH2pac Uncertainty propagation\n\nIn this section,\nwe will propagate uncertainties through a discipline\n"
      ]
    },
    {
      "cell_type": "markdown",
      "metadata": {},
      "source": [
        "Packages import\n\n"
      ]
    },
    {
      "cell_type": "code",
      "execution_count": null,
      "metadata": {
        "collapsed": false
      },
      "outputs": [],
      "source": [
        "from importlib.metadata import distribution\nfrom numpy import array\nfrom gemseo.api import create_surrogate\nfrom gemseo_mlearning.api import sample_discipline\nfrom discipline import H2TurboFan\nfrom mon_uncertain_space import lh2pacUncertainSpace\nfrom gemseo.uncertainty.api import create_statistics\nfrom gemseo_mlearning.api import sample_discipline\nfrom gemseo.mlearning.qual_measure.r2_measure import R2Measure\nfrom matplotlib import pyplot as plt\nimport numpy as np\nimport pandas as pd"
      ]
    },
    {
      "cell_type": "markdown",
      "metadata": {},
      "source": [
        "In this first section we want to do some statistics on the dataset sampeled with the real model\nFirstly,\nwe call the lh2pac uncertain space\n\n"
      ]
    },
    {
      "cell_type": "code",
      "execution_count": null,
      "metadata": {
        "collapsed": false
      },
      "outputs": [],
      "source": [
        "uncertain_space = lh2pacUncertainSpace()"
      ]
    },
    {
      "cell_type": "markdown",
      "metadata": {},
      "source": [
        "We compute the variation coefficient of the input parameters so that we can compare\nit with the output parameters\n\n"
      ]
    },
    {
      "cell_type": "code",
      "execution_count": null,
      "metadata": {
        "collapsed": false
      },
      "outputs": [],
      "source": [
        "names = [\"tgi\",\"tvi\",\"sfc\",\"mass\",\"drag\"]\ndic = {}\nprint (\"{:<8} {:<15}\".format('Feature', 'Variation_coef %'))\nfor name in names:\n    distribution = uncertain_space.distributions[name]\n    print(name, \"     \", distribution.standard_deviation / distribution.mean * 100)"
      ]
    },
    {
      "cell_type": "markdown",
      "metadata": {},
      "source": [
        "Then,\nwe call the discipline H2TurboFan:\n\n"
      ]
    },
    {
      "cell_type": "code",
      "execution_count": null,
      "metadata": {
        "collapsed": false
      },
      "outputs": [],
      "source": [
        "discipline = H2TurboFan()"
      ]
    },
    {
      "cell_type": "markdown",
      "metadata": {},
      "source": [
        "Thirdly,\nwe sample the discipline with a Monte Carlo algorithm:\n\n"
      ]
    },
    {
      "cell_type": "code",
      "execution_count": null,
      "metadata": {
        "collapsed": false
      },
      "outputs": [],
      "source": [
        "dataset = sample_discipline(discipline, uncertain_space, output_names=[\"mtow\"], algo_name=\"OT_MONTE_CARLO\", n_samples=30)"
      ]
    },
    {
      "cell_type": "markdown",
      "metadata": {},
      "source": [
        "Lastly,\nwe create a statistics object to estimate statistics,\nsuch as mean, variance and variation coefficient:\n\n"
      ]
    },
    {
      "cell_type": "code",
      "execution_count": null,
      "metadata": {
        "collapsed": false
      },
      "outputs": [],
      "source": [
        "statistics = create_statistics(dataset)\nmean = statistics.compute_mean()\nvariance = statistics.compute_standard_deviation()\ncv = statistics.compute_variation_coefficient()\nnames = [\"tgi\",\"tvi\",\"sfc\",\"mass\",\"drag\", \"mtow\"]\nprint (\"{:<8} {:<15} {:<10} {:<10}\".format('Feature','Mean','std','Variation_coefficient %'))\nfor name in names:\n    print(\"{:<8} {:<15} {:<10} {:<10}\".format(name, \"{:.2f}\".format(mean[name][0]),\\\n         \"{:.2f}\".format(np.sqrt(variance[name][0])),\"{:.2f}\".format(cv[name][0]*100)))"
      ]
    },
    {
      "cell_type": "markdown",
      "metadata": {},
      "source": [
        "We can also plot the histogram of the variables in the dataset:\n\n"
      ]
    },
    {
      "cell_type": "code",
      "execution_count": null,
      "metadata": {
        "collapsed": false
      },
      "outputs": [],
      "source": [
        "fig, axes = plt.subplots(2, 3)\nfor i in range(2):\n    for ax, name in zip(axes[i], names):\n        ax.hist(dataset[name])\n        ax.set_title(name)\nplt.show()"
      ]
    },
    {
      "cell_type": "markdown",
      "metadata": {},
      "source": [
        "In this second section we want to do some statistics on the dataset sampeled with the surrogate model\nso we can compare them with those of the dataset made with our true model \n\n"
      ]
    },
    {
      "cell_type": "code",
      "execution_count": null,
      "metadata": {
        "collapsed": false
      },
      "outputs": [],
      "source": [
        "surrogate_discipline = create_surrogate(\"LinearRegressor\", dataset)\nr2 = R2Measure(surrogate_discipline.regression_model, True)\nprint(\"R2: learning measure = \\n\", r2.evaluate_learn())  # learning measure\nprint(\"R2: k-folds cross-validation measure = \\n\", r2.evaluate_kfolds())  # k-folds cross-validation measure\n#The learning measure equals to 0.997, hence the linear regression is a good fit for the surrogate model.\n\nsurrogate_dataset = sample_discipline(surrogate_discipline, uncertain_space, output_names=[\"mtow\"], algo_name=\"OT_MONTE_CARLO\", n_samples=30)"
      ]
    },
    {
      "cell_type": "markdown",
      "metadata": {},
      "source": [
        "Lastly,\nwe create an :class:`.EmpiricalStatistics` object to estimate statistics,\nsuch as mean and variance:\n\n"
      ]
    },
    {
      "cell_type": "code",
      "execution_count": null,
      "metadata": {
        "collapsed": false
      },
      "outputs": [],
      "source": [
        "surrogate_statistics = create_statistics(surrogate_dataset)\ns_mean = surrogate_statistics.compute_mean()\ns_variance = surrogate_statistics.compute_standard_deviation()\ns_cv = surrogate_statistics.compute_variation_coefficient()\nnames = [\"tgi\",\"tvi\",\"sfc\",\"mass\",\"drag\", \"mtow\"]\nprint (\"{:<8} {:<15} {:<10} {:<10}\".format('Feature','Mean','std','Variation_coefficient %'))\nfor name in names:\n    print(\"{:<8} {:<15} {:<10} {:<10}\".format(name, \"{:.2f}\".format(s_mean[name][0]),\\\n         \"{:.2f}\".format(np.sqrt(s_variance[name][0])),\"{:.2f}\".format(s_cv[name][0]*100)))"
      ]
    },
    {
      "cell_type": "markdown",
      "metadata": {},
      "source": [
        "We can also plot the histogram of the variables in the surrogate_dataset:\n\n"
      ]
    },
    {
      "cell_type": "code",
      "execution_count": null,
      "metadata": {
        "collapsed": false
      },
      "outputs": [],
      "source": [
        "fig, axes = plt.subplots(2, 3)\nfor i in range(2):\n    for ax, name in zip(axes[i], names):\n        ax.hist(surrogate_dataset[name])\n        ax.set_title(name)\nplt.show()"
      ]
    }
  ],
  "metadata": {
    "kernelspec": {
      "display_name": "Python 3",
      "language": "python",
      "name": "python3"
    },
    "language_info": {
      "codemirror_mode": {
        "name": "ipython",
        "version": 3
      },
      "file_extension": ".py",
      "mimetype": "text/x-python",
      "name": "python",
      "nbconvert_exporter": "python",
      "pygments_lexer": "ipython3",
      "version": "3.9.13"
    }
  },
  "nbformat": 4,
  "nbformat_minor": 0
}