{
  "cells": [
    {
      "cell_type": "code",
      "execution_count": null,
      "metadata": {
        "collapsed": false
      },
      "outputs": [],
      "source": [
        "%matplotlib inline"
      ]
    },
    {
      "cell_type": "markdown",
      "metadata": {},
      "source": [
        "\n# Design space\n\n## Create a design space for the lh2pac\n"
      ]
    },
    {
      "cell_type": "code",
      "execution_count": null,
      "metadata": {
        "collapsed": false
      },
      "outputs": [],
      "source": [
        "from gemseo.algos.design_space import DesignSpace\n\n\nclass L2PACDesignSpace(DesignSpace):\n\n    def __init__(self):\n        super().__init__()\n        self.add_variable(\"thrust\", l_b=100000, u_b=150000, value=125000)\n        self.add_variable(\"bpr\", l_b=5, u_b=12, value=8.5)\n        self.add_variable(\"area\", l_b=120, u_b=200, value=160)\n        self.add_variable(\"aspect_ratio\", l_b=7, u_b=12, value=9.5)"
      ]
    }
  ],
  "metadata": {
    "kernelspec": {
      "display_name": "Python 3",
      "language": "python",
      "name": "python3"
    },
    "language_info": {
      "codemirror_mode": {
        "name": "ipython",
        "version": 3
      },
      "file_extension": ".py",
      "mimetype": "text/x-python",
      "name": "python",
      "nbconvert_exporter": "python",
      "pygments_lexer": "ipython3",
      "version": "3.9.13"
    }
  },
  "nbformat": 4,
  "nbformat_minor": 0
}