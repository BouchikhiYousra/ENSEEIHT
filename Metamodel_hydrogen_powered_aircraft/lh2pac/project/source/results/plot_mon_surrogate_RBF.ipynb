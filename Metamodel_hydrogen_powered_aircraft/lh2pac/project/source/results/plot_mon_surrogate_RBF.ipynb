{
  "cells": [
    {
      "cell_type": "code",
      "execution_count": null,
      "metadata": {
        "collapsed": false
      },
      "outputs": [],
      "source": [
        "%matplotlib inline"
      ]
    },
    {
      "cell_type": "markdown",
      "metadata": {},
      "source": [
        "\n# LH2pac Surrogate model\n\nIn this example,\nwe will build a surrogate model for the H2TurboFan problem using\na Random Bits Forest Regressor, and some constraints related to \nthe optimization of this model.\n"
      ]
    },
    {
      "cell_type": "code",
      "execution_count": null,
      "metadata": {
        "collapsed": false
      },
      "outputs": [],
      "source": [
        "from gemseo.api import configure_logger\nfrom gemseo.api import create_scenario\nfrom gemseo.api import create_surrogate\nfrom gemseo.mlearning.qual_measure.r2_measure import R2Measure\nfrom gemseo.mlearning.qual_measure.rmse_measure import RMSEMeasure\nfrom gemseo_mlearning.api import sample_discipline\nfrom discipline import H2TurboFan\nfrom project.source._results.plot_mon_design_space import lh2pacDesignSpace\nfrom marilib.utils import unit\nimport matplotlib.pyplot as plt\nfrom numpy import array"
      ]
    },
    {
      "cell_type": "code",
      "execution_count": null,
      "metadata": {
        "collapsed": false
      },
      "outputs": [],
      "source": [
        "configure_logger()"
      ]
    },
    {
      "cell_type": "markdown",
      "metadata": {},
      "source": [
        "Firstly,\nwe instantiate the H2TurboFan discipline\n\n"
      ]
    },
    {
      "cell_type": "code",
      "execution_count": null,
      "metadata": {
        "collapsed": false
      },
      "outputs": [],
      "source": [
        "discipline = H2TurboFan()"
      ]
    },
    {
      "cell_type": "markdown",
      "metadata": {},
      "source": [
        "Then, we import the design space:\n\n"
      ]
    },
    {
      "cell_type": "code",
      "execution_count": null,
      "metadata": {
        "collapsed": false
      },
      "outputs": [],
      "source": [
        "design_space = lh2pacDesignSpace()\nprint(design_space)"
      ]
    },
    {
      "cell_type": "markdown",
      "metadata": {},
      "source": [
        "Then,\nwe sample the discipline with an optimal LHS:\n\n"
      ]
    },
    {
      "cell_type": "code",
      "execution_count": null,
      "metadata": {
        "collapsed": false
      },
      "outputs": [],
      "source": [
        "dataset = sample_discipline(discipline, design_space, output_names=[\"mtow\",\"tofl\",\"vapp\", \"vz_mcl\",\"vz_mcr\",\"oei_path\",\"ttc\",\"far\"],algo_name= \"OT_OPT_LHS\", n_samples= 30)"
      ]
    },
    {
      "cell_type": "markdown",
      "metadata": {},
      "source": [
        "before creating a surrogate discipline:\n\n"
      ]
    },
    {
      "cell_type": "code",
      "execution_count": null,
      "metadata": {
        "collapsed": false
      },
      "outputs": [],
      "source": [
        "surrogate_discipline = create_surrogate(\"RBFRegressor\", dataset)"
      ]
    },
    {
      "cell_type": "markdown",
      "metadata": {},
      "source": [
        "and using it for prediction:\n\n"
      ]
    },
    {
      "cell_type": "code",
      "execution_count": null,
      "metadata": {
        "collapsed": false
      },
      "outputs": [],
      "source": [
        "surrogate_discipline.execute({\"x\": array([1.])})\nprint(surrogate_discipline.cache.last_entry)"
      ]
    },
    {
      "cell_type": "markdown",
      "metadata": {},
      "source": [
        "optimization of the surrogate model\n\n"
      ]
    },
    {
      "cell_type": "code",
      "execution_count": null,
      "metadata": {
        "collapsed": false
      },
      "outputs": [],
      "source": [
        "#first we create a scenario\nscenario = create_scenario([discipline], \"DisciplinaryOpt\", \"mtow\", design_space)\nscenario.add_constraint(\"tofl\", \"ineq\", positive=False, value = 2200.)\nscenario.add_constraint(\"vapp\", \"ineq\", positive=False, value = unit.mps_kt(137.))\nscenario.add_constraint(\"vz_mcl\", \"ineq\", positive=True, value = unit.mps_ftpmin(300.)) #ftpmin_mps\nscenario.add_constraint(\"vz_mcr\", \"ineq\", positive=True, value = unit.mps_ftpmin(0.))\nscenario.add_constraint(\"oei_path\", \"ineq\", positive=True, value=0.0011)\nscenario.add_constraint(\"ttc\", \"ineq\", positive=False, value=unit.s_min(25.)) # min_s\nscenario.add_constraint(\"far\", \"ineq\", positive=False, value=13.4)"
      ]
    },
    {
      "cell_type": "markdown",
      "metadata": {},
      "source": [
        "before executing it with a gradient-free optimizer:\n\n"
      ]
    },
    {
      "cell_type": "code",
      "execution_count": null,
      "metadata": {
        "collapsed": false
      },
      "outputs": [],
      "source": [
        "scenario.execute({\"algo\": \"NLOPT_COBYLA\", \"max_iter\": 1000})"
      ]
    },
    {
      "cell_type": "markdown",
      "metadata": {},
      "source": [
        "Lastly,\nwe can plot the optimization history:\n\n"
      ]
    },
    {
      "cell_type": "code",
      "execution_count": null,
      "metadata": {
        "collapsed": false
      },
      "outputs": [],
      "source": [
        "scenario.post_process(\"OptHistoryView\", save=True, show=True, file_path=\"opt_history_RBF\")\nplt.show()"
      ]
    },
    {
      "cell_type": "markdown",
      "metadata": {},
      "source": [
        "This surrogate discipline can be used in a scenario.\nThe underlying regression model can also be assessed,\nwith the R2 measure for instance:\n\n"
      ]
    },
    {
      "cell_type": "code",
      "execution_count": null,
      "metadata": {
        "collapsed": false
      },
      "outputs": [],
      "source": [
        "r2 = R2Measure(surrogate_discipline.regression_model, True)\nprint(\"r2 de l'evaluate_learn\",r2.evaluate_learn())  # learning measure\nprint(\"\\n\\n\")\nprint(\"r2 de l'evaluate_kfolds\",r2.evaluate_kfolds())  # k-folds cross-validation measure\nprint(\"\\n\\n\")"
      ]
    },
    {
      "cell_type": "markdown",
      "metadata": {},
      "source": [
        "or with the root mean squared error:\n\n"
      ]
    },
    {
      "cell_type": "code",
      "execution_count": null,
      "metadata": {
        "collapsed": false
      },
      "outputs": [],
      "source": [
        "rmse = RMSEMeasure(surrogate_discipline.regression_model, True)\nprint(\"rmse de evaluate_learn\",rmse.evaluate_learn())\nprint(\"\\n\\n\")\nprint(\"rmse de evaluate_kfolds\",rmse.evaluate_kfolds())\nprint(\"\\n\\n\")"
      ]
    }
  ],
  "metadata": {
    "kernelspec": {
      "display_name": "Python 3",
      "language": "python",
      "name": "python3"
    },
    "language_info": {
      "codemirror_mode": {
        "name": "ipython",
        "version": 3
      },
      "file_extension": ".py",
      "mimetype": "text/x-python",
      "name": "python",
      "nbconvert_exporter": "python",
      "pygments_lexer": "ipython3",
      "version": "3.9.13"
    }
  },
  "nbformat": 4,
  "nbformat_minor": 0
}