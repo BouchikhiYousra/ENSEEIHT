{
  "cells": [
    {
      "cell_type": "code",
      "execution_count": null,
      "metadata": {
        "collapsed": false
      },
      "outputs": [],
      "source": [
        "%matplotlib inline"
      ]
    },
    {
      "cell_type": "markdown",
      "metadata": {},
      "source": [
        "\n# LH2pac Uncertain space\n\nHere we create an uncertain space by introducing some\nuncertainties on the input variables of the LH2pac model\n-------------------------\n\nFirstly, we import the class ParameterSpace\n"
      ]
    },
    {
      "cell_type": "code",
      "execution_count": null,
      "metadata": {
        "collapsed": false
      },
      "outputs": [],
      "source": [
        "from gemseo.algos.parameter_space import ParameterSpace"
      ]
    },
    {
      "cell_type": "markdown",
      "metadata": {},
      "source": [
        "## Create a class of uncertain space\n\n"
      ]
    },
    {
      "cell_type": "code",
      "execution_count": null,
      "metadata": {
        "collapsed": false
      },
      "outputs": [],
      "source": [
        "class lh2pacUncertainSpace(ParameterSpace):\n\n    def __init__(self):\n        super().__init__()\n        self.add_random_variable(\n            \"tgi\", \"OTTriangularDistribution\", minimum=0.25, mode=0.3, maximum=0.305\n        )\n        self.add_random_variable(\n            \"tvi\", \"OTTriangularDistribution\", minimum=0.8, mode=0.845, maximum=0.85\n        )\n        self.add_random_variable(\n            \"sfc\", \"OTTriangularDistribution\", minimum=0.99, mode=1., maximum=1.03 #propulsion\n        )\n        self.add_random_variable(\n            \"mass\", \"OTTriangularDistribution\", minimum=0.99, mode=1., maximum=1.03 #structure\n        )\n        self.add_random_variable(\n            \"drag\", \"OTTriangularDistribution\", minimum=0.99, mode=1., maximum=1.03  #aero\n        )"
      ]
    }
  ],
  "metadata": {
    "kernelspec": {
      "display_name": "Python 3",
      "language": "python",
      "name": "python3"
    },
    "language_info": {
      "codemirror_mode": {
        "name": "ipython",
        "version": 3
      },
      "file_extension": ".py",
      "mimetype": "text/x-python",
      "name": "python",
      "nbconvert_exporter": "python",
      "pygments_lexer": "ipython3",
      "version": "3.9.13"
    }
  },
  "nbformat": 4,
  "nbformat_minor": 0
}